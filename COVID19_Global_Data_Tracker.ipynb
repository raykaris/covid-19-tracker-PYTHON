{
 "cells": [
  {
   "cell_type": "markdown",
   "id": "a8940459",
   "metadata": {},
   "source": [
    "# 📘 COVID-19 Global Data Tracker\n",
    "A data analysis project tracking global COVID-19 trends, cases, deaths, and vaccinations."
   ]
  },
  {
   "cell_type": "markdown",
   "id": "00c64a72",
   "metadata": {},
   "source": [
    "## 🗂️ 1. Data Collection"
   ]
  },
  {
   "cell_type": "code",
   "execution_count": null,
   "id": "ce8c9cb4",
   "metadata": {},
   "outputs": [],
   "source": [
    "# Import required libraries\n",
    "import pandas as pd\n",
    "import numpy as np\n",
    "import matplotlib.pyplot as plt\n",
    "import seaborn as sns\n",
    "\n",
    "# Optional: interactive plots\n",
    "# import plotly.express as px\n",
    "\n",
    "# Load dataset\n",
    "url = \"https://covid.ourworldindata.org/data/owid-covid-data.csv\"\n",
    "df = pd.read_csv(url)\n",
    "\n",
    "# Display basic information\n",
    "df.shape, df.columns"
   ]
  },
  {
   "cell_type": "markdown",
   "id": "39cf0b47",
   "metadata": {},
   "source": [
    "## 🔍 2. Data Exploration"
   ]
  },
  {
   "cell_type": "code",
   "execution_count": null,
   "id": "f3ba3340",
   "metadata": {},
   "outputs": [],
   "source": [
    "# Preview data\n",
    "df.head()\n",
    "\n",
    "# Check data types\n",
    "df.dtypes\n",
    "\n",
    "# Check for missing values\n",
    "df.isnull().sum()\n",
    "\n",
    "# View unique countries\n",
    "df['location'].unique()"
   ]
  },
  {
   "cell_type": "markdown",
   "id": "4ea4b771",
   "metadata": {},
   "source": [
    "## 🧹 3. Data Cleaning"
   ]
  },
  {
   "cell_type": "code",
   "execution_count": null,
   "id": "dfc3766a",
   "metadata": {},
   "outputs": [],
   "source": [
    "# Filter relevant countries\n",
    "countries = ['Kenya', 'United States', 'India']\n",
    "df = df[df['location'].isin(countries)]\n",
    "\n",
    "# Convert 'date' to datetime\n",
    "df['date'] = pd.to_datetime(df['date'])\n",
    "\n",
    "# Drop rows with missing 'total_cases' or 'total_deaths'\n",
    "df = df.dropna(subset=['total_cases', 'total_deaths'])\n",
    "\n",
    "# Fill or interpolate other missing numeric values\n",
    "df.fillna(method='ffill', inplace=True)"
   ]
  },
  {
   "cell_type": "markdown",
   "id": "dff17fc3",
   "metadata": {},
   "source": [
    "## 📊 4. Exploratory Data Analysis (EDA)"
   ]
  },
  {
   "cell_type": "code",
   "execution_count": null,
   "id": "bd39461a",
   "metadata": {},
   "outputs": [],
   "source": [
    "# Plot total cases over time\n",
    "plt.figure(figsize=(10,6))\n",
    "for country in countries:\n",
    "    country_df = df[df['location'] == country]\n",
    "    plt.plot(country_df['date'], country_df['total_cases'], label=country)\n",
    "plt.title('Total COVID-19 Cases Over Time')\n",
    "plt.xlabel('Date')\n",
    "plt.ylabel('Total Cases')\n",
    "plt.legend()\n",
    "plt.grid()\n",
    "plt.show()\n",
    "\n",
    "# Death rate calculation\n",
    "df['death_rate'] = df['total_deaths'] / df['total_cases']"
   ]
  },
  {
   "cell_type": "markdown",
   "id": "95c30622",
   "metadata": {},
   "source": [
    "## 💉 5. Vaccination Progress"
   ]
  },
  {
   "cell_type": "code",
   "execution_count": null,
   "id": "80607439",
   "metadata": {},
   "outputs": [],
   "source": [
    "# Plot total vaccinations\n",
    "plt.figure(figsize=(10,6))\n",
    "for country in countries:\n",
    "    country_df = df[df['location'] == country]\n",
    "    plt.plot(country_df['date'], country_df['total_vaccinations'], label=country)\n",
    "plt.title('Total Vaccinations Over Time')\n",
    "plt.xlabel('Date')\n",
    "plt.ylabel('Total Vaccinations')\n",
    "plt.legend()\n",
    "plt.grid()\n",
    "plt.show()\n",
    "\n",
    "# Optional: % of population vaccinated\n",
    "# You need to ensure 'population' column is present and correct\n",
    "df['percent_vaccinated'] = (df['total_vaccinations'] / df['population']) * 100"
   ]
  },
  {
   "cell_type": "markdown",
   "id": "b96cfe36",
   "metadata": {},
   "source": [
    "## 🗺️ 7. Choropleth Map Visualization\n",
    "Visualize total COVID-19 cases and vaccination rates by country using a world map."
   ]
  },
  {
   "cell_type": "code",
   "execution_count": null,
   "id": "f99689e3",
   "metadata": {},
   "outputs": [],
   "source": [
    "import plotly.express as px\n",
    "\n",
    "# Get the latest available data for each country\n",
    "latest_df = df.sort_values('date').groupby('location', as_index=False).last()\n",
    "\n",
    "# Filter out regions that are not individual countries (based on iso_code length)\n",
    "latest_df = latest_df[latest_df['iso_code'].str.len() == 3]\n",
    "\n",
    "# Fill missing values with 0 for mapping\n",
    "latest_df['total_cases'] = latest_df['total_cases'].fillna(0)\n",
    "latest_df['total_vaccinations'] = latest_df['total_vaccinations'].fillna(0)\n",
    "\n",
    "# Choropleth: Total Cases\n",
    "fig_cases = px.choropleth(\n",
    "    latest_df,\n",
    "    locations=\"iso_code\",\n",
    "    color=\"total_cases\",\n",
    "    hover_name=\"location\",\n",
    "    color_continuous_scale=\"Reds\",\n",
    "    title=\"🌍 Total COVID-19 Cases by Country (Latest)\"\n",
    ")\n",
    "fig_cases.show()\n",
    "\n",
    "# Optional: Choropleth of vaccination rate if population is available\n",
    "if 'population' in latest_df.columns:\n",
    "    latest_df['percent_vaccinated'] = (latest_df['total_vaccinations'] / latest_df['population']) * 100\n",
    "    fig_vax = px.choropleth(\n",
    "        latest_df,\n",
    "        locations=\"iso_code\",\n",
    "        color=\"percent_vaccinated\",\n",
    "        hover_name=\"location\",\n",
    "        color_continuous_scale=\"Greens\",\n",
    "        title=\"💉 Percent Vaccinated by Country (Latest)\"\n",
    "    )\n",
    "    fig_vax.show()"
   ]
  },
  {
   "cell_type": "markdown",
   "id": "3627fd9f",
   "metadata": {},
   "source": [
    "## 🧠 6. Insights & Reporting"
   ]
  },
  {
   "cell_type": "markdown",
   "id": "fc1864ab",
   "metadata": {},
   "source": [
    "### Key Insights\n",
    "\n",
    "1. 🇺🇸 The United States had the fastest early vaccine rollout, reaching 50% coverage by mid-2021.\n",
    "2. 🇮🇳 India experienced sharp spikes in new cases during mid-2021.\n",
    "3. 🇰🇪 Kenya had slower vaccination uptake but maintained a lower case-fatality rate.\n",
    "4. Daily new case trends reflect clear wave patterns across all countries.\n",
    "5. Vaccination seems correlated with decline in deaths post-peak.\n",
    "\n",
    "**Notes:**\n",
    "- The dataset is updated regularly. Refresh for latest stats.\n",
    "- Some countries may have missing or inconsistent vaccination records.\n"
   ]
  }
 ],
 "metadata": {
  "kernelspec": {
   "display_name": "Python 3",
   "language": "python",
   "name": "python3"
  },
  "language_info": {
   "name": "python",
   "version": "2.7.18"
  }
 },
 "nbformat": 4,
 "nbformat_minor": 5
}
